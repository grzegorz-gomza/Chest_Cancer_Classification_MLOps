{
 "cells": [
  {
   "cell_type": "code",
   "execution_count": 16,
   "metadata": {},
   "outputs": [],
   "source": [
    "probabilities = {'adenocarcinoma': 0.38,\n",
    "    'large.cell.carcinoma': 0.21,\n",
    "    'normal': 0.11,\n",
    "    'squamous.cell.carcinoma': 0.25}\n",
    "\n"
   ]
  },
  {
   "cell_type": "code",
   "execution_count": 17,
   "metadata": {},
   "outputs": [
    {
     "data": {
      "text/plain": [
       "{'adenocarcinoma': 0.38,\n",
       " 'squamous.cell.carcinoma': 0.25,\n",
       " 'large.cell.carcinoma': 0.21,\n",
       " 'normal': 0.11}"
      ]
     },
     "execution_count": 17,
     "metadata": {},
     "output_type": "execute_result"
    }
   ],
   "source": [
    "sorted_prob = dict(sorted(probabilities.items(), reverse = True, key=lambda x:x[1]))\n",
    "sorted_prob"
   ]
  },
  {
   "cell_type": "code",
   "execution_count": 18,
   "metadata": {},
   "outputs": [
    {
     "data": {
      "text/plain": [
       "'adenocarcinoma'"
      ]
     },
     "execution_count": 18,
     "metadata": {},
     "output_type": "execute_result"
    }
   ],
   "source": [
    "list(sorted_prob.keys())[0]"
   ]
  },
  {
   "cell_type": "code",
   "execution_count": 23,
   "metadata": {},
   "outputs": [
    {
     "data": {
      "text/plain": [
       "0.57"
      ]
     },
     "execution_count": 23,
     "metadata": {},
     "output_type": "execute_result"
    }
   ],
   "source": [
    "sum(list(sorted_prob.values())[1:])"
   ]
  },
  {
   "cell_type": "code",
   "execution_count": 11,
   "metadata": {},
   "outputs": [
    {
     "data": {
      "text/plain": [
       "0.21"
      ]
     },
     "execution_count": 11,
     "metadata": {},
     "output_type": "execute_result"
    }
   ],
   "source": [
    "abc = [[0.21, 0.38, 0.11, 0.25]]\n",
    "abc[0][0]"
   ]
  },
  {
   "cell_type": "code",
   "execution_count": 13,
   "metadata": {},
   "outputs": [
    {
     "name": "stdout",
     "output_type": "stream",
     "text": [
      "True\n"
     ]
    }
   ],
   "source": [
    "cos = \"asb\"\n",
    "print(isinstance(cos, str))"
   ]
  },
  {
   "cell_type": "code",
   "execution_count": 15,
   "metadata": {},
   "outputs": [
    {
     "data": {
      "text/plain": [
       "'Cancer not detected with probability of 11.00%'"
      ]
     },
     "execution_count": 15,
     "metadata": {},
     "output_type": "execute_result"
    }
   ],
   "source": [
    "f\"Cancer not detected with probability of {sorted_prob['normal'] * 100:.2f}%\""
   ]
  },
  {
   "cell_type": "code",
   "execution_count": null,
   "metadata": {},
   "outputs": [],
   "source": [
    "def prediction_handler(predictions):\n",
    "    if not isinstance(predictions, str):\n",
    "        probabilities = {'adenocarcinoma': predictions[0][0],\n",
    "        'large cell carcinoma': predictions[0][1],\n",
    "        'normal': predictions[0][2],\n",
    "        'squamous cell carcinoma': predictions[0][3]}\n",
    "\n",
    "        sorted_probabilities = dict(sorted(probabilities.items(), reverse = True, key=lambda x:x[1]))\n",
    "        \n",
    "        def check_if_cancer(prob):\n",
    "            if (list(prob.keys())[0] == 'normal' and list(prob.keys())[0] > 0.5):\n",
    "                return False\n",
    "            else:\n",
    "                return True\n",
    "        \n",
    "        if not check_if_cancer:\n",
    "            return f\"Cancer not detected with probability of {sorted_probabilities['normal'] * 100:.2f}%\"\n",
    "        elif check_if_cancer:\n",
    "            cancer_prob = sum(list(sorted_probabilities.values())[1:])\n",
    "            return f\"Cancer detected with probability of {cancer_prob:.2f}%. The Cancer type is most probably {list(sorted_probabilities.keys())[0]} with probability of {sorted_probabilities[list(sorted_probabilities.keys())[0]] * 100:.2f}%\"\n",
    "    else:\n",
    "        return predictions"
   ]
  }
 ],
 "metadata": {
  "kernelspec": {
   "display_name": "venv",
   "language": "python",
   "name": "python3"
  },
  "language_info": {
   "codemirror_mode": {
    "name": "ipython",
    "version": 3
   },
   "file_extension": ".py",
   "mimetype": "text/x-python",
   "name": "python",
   "nbconvert_exporter": "python",
   "pygments_lexer": "ipython3",
   "version": "3.11.7"
  }
 },
 "nbformat": 4,
 "nbformat_minor": 2
}
